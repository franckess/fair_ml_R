{
 "cells": [
  {
   "cell_type": "markdown",
   "metadata": {},
   "source": [
    "# License\n",
    "\n",
    "Copyright 2019 Hamaad Musharaf Shah\n",
    "\n",
    "Licensed under the Apache License, Version 2.0 (the \"License\"); you may not use this file except in compliance with the License. You may obtain a copy of the License at\n",
    "\n",
    "http://www.apache.org/licenses/LICENSE-2.0\n",
    "\n",
    "Unless required by applicable law or agreed to in writing, software distributed under the License is distributed on an \"AS IS\" BASIS, WITHOUT WARRANTIES OR CONDITIONS OF ANY KIND, either express or implied. See the License for the specific language governing permissions and limitations under the License."
   ]
  },
  {
   "cell_type": "markdown",
   "metadata": {},
   "source": [
    "# Creating fair machine learning models with Generative Adversarial Networks\n",
    "\n",
    "## Author: Hamaad Shah\n",
    "---"
   ]
  },
  {
   "cell_type": "markdown",
   "metadata": {},
   "source": [
    "Load up R libraries.\n",
    "\n",
    "---"
   ]
  },
  {
   "cell_type": "code",
   "execution_count": null,
   "metadata": {},
   "outputs": [],
   "source": [
    "library(fastDummies)\n",
    "library(data.table)\n",
    "library(CASdatasets)\n",
    "library(data.table)\n",
    "library(dplyr)\n",
    "library(keras)\n",
    "library(hmeasure)\n",
    "library(ggplot2)"
   ]
  },
  {
   "cell_type": "markdown",
   "metadata": {},
   "source": [
    "Load up data, do some basic preprocessing and create the set of features, sensitives attributes and target variable.\n",
    "\n",
    "---"
   ]
  },
  {
   "cell_type": "code",
   "execution_count": null,
   "metadata": {
    "scrolled": false
   },
   "outputs": [],
   "source": [
    "data <- fread(input = \"/Users/samson/Downloads/adult.data\",\n",
    "              col.names = c(\"age\",\n",
    "                            \"workclass\", \n",
    "                            \"fnlwgt\",\n",
    "                            \"education\", \n",
    "                            \"education_num\", \n",
    "                            \"marital_status\",\n",
    "                            \"occupation\", \n",
    "                            \"relationship\", \n",
    "                            \"race\", \n",
    "                            \"sex\", \n",
    "                            \"capital_gain\",\n",
    "                            \"capital_loss\",\n",
    "                            \"hours_per_week\", \n",
    "                            \"country\", \n",
    "                            \"target\"), \n",
    "              na.strings = \"?\")\n",
    "\n",
    "data <- data[which(data$race %in% c(\"White\", \"Black\"))]\n",
    "\n",
    "sensitive_attribs <- c(\"race\", \"sex\")\n",
    "\n",
    "data[, race := ifelse(race == \"White\", 1, 0)]\n",
    "data[, sex := ifelse(sex == \"Male\", 1, 0)]\n",
    "\n",
    "# 0 is black and 1 is white.\n",
    "# 0 is female and 1 is male.\n",
    "Z <- data[, sensitive_attribs, with = FALSE]\n",
    "\n",
    "y <- data[, target := ifelse(target == \">50K\", 1, 0)][, target]\n",
    "\n",
    "X <- data[, \":=\"(target = NULL,\n",
    "                 race = NULL,\n",
    "                 sex = NULL)]\n",
    "\n",
    "is.missing.ind <- is.na(X)\n",
    "X[is.missing.ind] <- \"Unknown\"\n",
    "\n",
    "\n",
    "X <- dummy_cols(.data = X, select_columns = c(\"workclass\", \n",
    "                                              \"education\", \n",
    "                                              \"marital_status\", \n",
    "                                              \"occupation\", \n",
    "                                              \"relationship\", \n",
    "                                              \"country\"), remove_first_dummy = TRUE)\n",
    "X <- X[, \":=\"(workclass = NULL, \n",
    "              education = NULL, \n",
    "              marital_status = NULL, \n",
    "              occupation = NULL, \n",
    "              relationship = NULL, \n",
    "              country = NULL)]"
   ]
  },
  {
   "cell_type": "markdown",
   "metadata": {},
   "source": [
    "Split the data into train and test sets.\n",
    "\n",
    "---"
   ]
  },
  {
   "cell_type": "code",
   "execution_count": null,
   "metadata": {},
   "outputs": [],
   "source": [
    "tr.ind <- sample(x = 1:dim(X)[1], size = as.integer(0.5 * dim(X)[1]), replace = FALSE)\n",
    "ts.ind <- setdiff(x = 1:dim(X)[1], y = tr.ind)"
   ]
  },
  {
   "cell_type": "markdown",
   "metadata": {},
   "source": [
    "Standardise the data.\n",
    "\n",
    "---"
   ]
  },
  {
   "cell_type": "code",
   "execution_count": null,
   "metadata": {
    "scrolled": false
   },
   "outputs": [],
   "source": [
    "mu <- apply(X = X, MARGIN = 2, FUN = mean)\n",
    "std <- apply(X = X, MARGIN = 2, FUN = sd)\n",
    "\n",
    "standardised.X.tr <- sweep(x = X[tr.ind], MARGIN = 2, STATS = mu, FUN = \"-\")\n",
    "standardised.X.tr <- sweep(x = standardised.X.tr, MARGIN = 2, STATS = std, FUN = \"/\")\n",
    "standardised.X.ts <- sweep(x = X[ts.ind], MARGIN = 2, STATS = mu, FUN = \"-\")\n",
    "standardised.X.ts <- sweep(x = standardised.X.ts, MARGIN = 2, STATS = std, FUN = \"/\")"
   ]
  },
  {
   "cell_type": "markdown",
   "metadata": {},
   "source": [
    "Create the classifier.\n",
    "\n",
    "---"
   ]
  },
  {
   "cell_type": "code",
   "execution_count": null,
   "metadata": {},
   "outputs": [],
   "source": [
    "classifier.input.layer <- layer_input(shape = c(dim(standardised.X.tr)[2]), name = \"classifier.input\")\n",
    "\n",
    "classifier.hidden.layers <- classifier.input.layer %>%  \n",
    "  layer_dense(units = 32, activation = \"relu\", name = \"classifier.hidden.layer.1\") %>%\n",
    "  layer_dropout(rate = 0.2, name = \"classifier.dropout.layer.1\") %>% \n",
    "  layer_dense(units = 32, activation = \"relu\", name = \"classifier.hidden.layer.2\") %>% \n",
    "  layer_dropout(rate = 0.2, name = \"classifier.dropout.layer.2\") %>% \n",
    "  layer_dense(units = 32, activation = \"relu\", name = \"classifier.hidden.layer.3\") %>% \n",
    "  layer_dropout(rate = 0.2, name = \"classifier.dropout.layer.3\")\n",
    "\n",
    "classifier.output.layer <- classifier.hidden.layers %>%\n",
    "  layer_dense(units = 1, activation = \"sigmoid\", name = \"classifier.output\")\n",
    "\n",
    "classifier.model <- keras_model(inputs = classifier.input.layer, \n",
    "                                outputs = classifier.output.layer)\n",
    "\n",
    "classifier.model %>% compile(optimizer = \"adam\",\n",
    "                             loss = \"binary_crossentropy\")\n",
    "\n",
    "summary(classifier.model)\n"
   ]
  },
  {
   "cell_type": "markdown",
   "metadata": {},
   "source": [
    "Create the adversarial model.\n",
    "\n",
    "---"
   ]
  },
  {
   "cell_type": "code",
   "execution_count": null,
   "metadata": {},
   "outputs": [],
   "source": [
    "adversarial.input.layer <- layer_input(shape = c(1), name = \"adversarial.input\")\n",
    "\n",
    "adversarial.hidden.layers <- adversarial.input.layer %>%  \n",
    "  layer_dense(units = 32, activation = \"relu\", name = \"adversarial.hidden.layer.1\") %>%\n",
    "  layer_dense(units = 32, activation = \"relu\", name = \"adversarial.hidden.layer.2\") %>% \n",
    "  layer_dense(units = 32, activation = \"relu\", name = \"adversarial.hidden.layer.3\")\n",
    "\n",
    "race.layer <- adversarial.hidden.layers %>%\n",
    "  layer_dense(units = 1, activation = \"sigmoid\", name = \"race.layer.output\")\n",
    "sex.layer <- adversarial.hidden.layers %>%\n",
    "  layer_dense(units = 1, activation = \"sigmoid\", name = \"sex.layer.output\")\n",
    "\n",
    "adversarial.model <- keras_model(inputs = adversarial.input.layer, \n",
    "                                 outputs = c(race.layer, \n",
    "                                             sex.layer))\n",
    "\n",
    "summary(adversarial.model)"
   ]
  },
  {
   "cell_type": "markdown",
   "metadata": {},
   "source": [
    "We freeze the classifier weights and unfreeze the adversarial model weights in order to train the adversarial model.\n",
    "\n",
    "---"
   ]
  },
  {
   "cell_type": "code",
   "execution_count": null,
   "metadata": {},
   "outputs": [],
   "source": [
    "unfrozen.adversarial.model <- keras_model(inputs = classifier.input.layer, \n",
    "                                          outputs = adversarial.model(object = classifier.output.layer))\n",
    "freeze_weights(object = classifier.model,\n",
    "               from = \"classifier.input\",\n",
    "               to = \"classifier.output\")\n",
    "\n",
    "unfreeze_weights(object = adversarial.model,\n",
    "                 from = \"adversarial.input\",\n",
    "                 to = \"race.layer.output\")\n",
    "unfreeze_weights(object = adversarial.model,\n",
    "                 from = \"adversarial.input\",\n",
    "                 to = \"sex.layer.output\")\n",
    "\n",
    "unfrozen.adversarial.model %>% compile(optimizer = \"adam\",\n",
    "                                       loss = c(\"binary_crossentropy\",\n",
    "                                                \"binary_crossentropy\"))\n",
    " \n",
    "summary(unfrozen.adversarial.model)"
   ]
  },
  {
   "cell_type": "markdown",
   "metadata": {},
   "source": [
    "We freeze the adversarial weights and unfreeze the classifier model weights in order to train the classifier model.\n",
    "\n",
    "---"
   ]
  },
  {
   "cell_type": "code",
   "execution_count": null,
   "metadata": {},
   "outputs": [],
   "source": [
    "frozen.adversarial.model <- keras_model(inputs = classifier.input.layer, \n",
    "                                        outputs = c(classifier.output.layer,\n",
    "                                                    adversarial.model(object = classifier.output.layer)))\n",
    "\n",
    "unfreeze_weights(object = classifier.model,\n",
    "                 from = \"classifier.input\",\n",
    "                 to = \"classifier.output\")\n",
    "\n",
    "freeze_weights(object = adversarial.model,\n",
    "               from = \"adversarial.input\",\n",
    "               to = \"race.layer.output\")\n",
    "freeze_weights(object = adversarial.model,\n",
    "               from = \"adversarial.input\",\n",
    "               to = \"sex.layer.output\")\n",
    "\n",
    "summary(frozen.adversarial.model)\n",
    "\n",
    "frozen.adversarial.model %>% compile(optimizer = \"adam\", metrics = NULL,\n",
    "                                     loss_weights = c(1, -130, -30),\n",
    "                                     loss = c(\"binary_crossentropy\", \n",
    "                                              \"binary_crossentropy\", \n",
    "                                              \"binary_crossentropy\"))"
   ]
  },
  {
   "cell_type": "markdown",
   "metadata": {},
   "source": [
    "Pre-train the classifier.\n",
    "\n",
    "---"
   ]
  },
  {
   "cell_type": "code",
   "execution_count": null,
   "metadata": {},
   "outputs": [],
   "source": [
    "unfreeze_weights(object = classifier.model,\n",
    "                 from = \"classifier.input\",\n",
    "                 to = \"classifier.output\")\n",
    "\n",
    "classifier.model %>% fit(x = as.matrix(standardised.X.tr), \n",
    "                         y = y[tr.ind],\n",
    "                         epochs = 5,\n",
    "                         batch_size = 500,\n",
    "                         verbose = 1, \n",
    "                         shuffle = TRUE)"
   ]
  },
  {
   "cell_type": "markdown",
   "metadata": {},
   "source": [
    "Pre-train the adversarial model.\n",
    "\n",
    "---"
   ]
  },
  {
   "cell_type": "code",
   "execution_count": null,
   "metadata": {},
   "outputs": [],
   "source": [
    "freeze_weights(object = classifier.model,\n",
    "               from = \"classifier.input\",\n",
    "               to = \"classifier.output\")\n",
    "\n",
    "unfreeze_weights(object = adversarial.model,\n",
    "                 from = \"adversarial.input\",\n",
    "                 to = \"race.layer.output\")\n",
    "unfreeze_weights(object = adversarial.model,\n",
    "                 from = \"adversarial.input\",\n",
    "                 to = \"sex.layer.output\")\n",
    "\n",
    "unfrozen.adversarial.model %>% fit(x = as.matrix(standardised.X.tr), \n",
    "                                   y = list(as.matrix(Z[tr.ind, \"race\", with = FALSE]),\n",
    "                                            as.matrix(Z[tr.ind, \"sex\", with = FALSE])),\n",
    "                                   epochs = 5,\n",
    "                                   batch_size = 500,\n",
    "                                   verbose = 1, \n",
    "                                   shuffle = TRUE)"
   ]
  },
  {
   "cell_type": "markdown",
   "metadata": {},
   "source": [
    "Make some basic plots and check the AUC and P-rule measures to check whether the model is optimal and fair.\n",
    "\n",
    "---"
   ]
  },
  {
   "cell_type": "code",
   "execution_count": null,
   "metadata": {
    "scrolled": false
   },
   "outputs": [],
   "source": [
    "pred.test <- classifier.model %>% predict(as.matrix(standardised.X.ts))\n",
    "\n",
    "plot.out <- data.table(pred.test, Z[ts.ind])\n",
    "colnames(plot.out) <- c(\"predictions\", sensitive_attribs)\n",
    "\n",
    "threshold <- 0.5\n",
    "\n",
    "y.z.1 <- ifelse(test = plot.out$predictions[which(plot.out$race == 1)] > threshold, yes = 1.0, no = 0.0)\n",
    "y.z.0 <- ifelse(test = plot.out$predictions[which(plot.out$race == 0)] > threshold, yes = 1.0, no = 0.0)\n",
    "odds <- mean(x = y.z.1) / mean(x = y.z.0)\n",
    "out.race <- min(x = c(odds, 1 / odds))\n",
    "\n",
    "y.z.1 <- ifelse(test = plot.out$predictions[which(plot.out$sex == 1)] > threshold, yes = 1.0, no = 0.0)\n",
    "y.z.0 <- ifelse(test = plot.out$predictions[which(plot.out$sex == 0)] > threshold, yes = 1.0, no = 0.0)\n",
    "odds <- mean(x = y.z.1) / mean(x = y.z.0)\n",
    "out.sex <- min(x = c(odds, 1.0 / odds))\n",
    "\n",
    "output.plot <- ggplot(data = plot.out) +\n",
    "geom_density(aes(x = predictions,\n",
    "                 fill = factor(race)),\n",
    "             alpha = 0.5) +\n",
    "ggtitle(paste(\"Predictions for income being higher than $50,000 per year\\nGrouped by race\\nP-rule:\",\n",
    "              percent(out.race),\n",
    "              \"\\nAUROC:\", \n",
    "              percent(HMeasure(true.class = y[ts.ind], scores = pred.test)$metrics$AUC))) +\n",
    "scale_fill_discrete(name=\"Race\",\n",
    "                    labels=c(\"Black\", \"White\")) +\n",
    "scale_x_continuous(labels = percent) +\n",
    "xlab(label = \"Classifier predictions\") +\n",
    "ylab(label = \"Density\")\n",
    "ggsave(filename = \"/Users/samson/Projects/fair_ml/pre_train_result_race.png\", \n",
    "       plot = output.plot)\n",
    "\n",
    "output.plot <- ggplot(data = plot.out) +\n",
    "geom_density(aes(x = predictions,\n",
    "                 fill = factor(sex)),\n",
    "             alpha = 0.5) +\n",
    "ggtitle(paste(\"Predictions for income being higher than $50,000 per year\\nGrouped by gender\\nP-rule:\", \n",
    "              percent(out.sex),\n",
    "              \"\\nAUROC:\", \n",
    "              percent(HMeasure(true.class = y[ts.ind], scores = pred.test)$metrics$AUC))) +\n",
    "scale_fill_discrete(name=\"Gender\",\n",
    "                    labels=c(\"Female\", \"Male\")) +\n",
    "scale_x_continuous(labels = percent) +\n",
    "xlab(label = \"Classifier predictions\") +\n",
    "ylab(label = \"Density\")\n",
    "ggsave(filename = \"/Users/samson/Projects/fair_ml/pre_train_result_gender.png\", \n",
    "       plot = output.plot)"
   ]
  },
  {
   "cell_type": "markdown",
   "metadata": {},
   "source": [
    "Train the classifier and the adversarial model alternately. \n",
    "\n",
    "---"
   ]
  },
  {
   "cell_type": "code",
   "execution_count": null,
   "metadata": {
    "scrolled": false
   },
   "outputs": [],
   "source": [
    "for (i in 1:100) {\n",
    "    freeze_weights(object = classifier.model,\n",
    "                   from = \"classifier.input\",\n",
    "                   to = \"classifier.output\")\n",
    "    unfreeze_weights(object = adversarial.model,\n",
    "                     from = \"adversarial.input\",\n",
    "                     to = \"race.layer.output\")\n",
    "    unfreeze_weights(object = adversarial.model,\n",
    "                     from = \"adversarial.input\",\n",
    "                     to = \"sex.layer.output\")\n",
    "    batch.ind <- sample(x = 1:length(tr.ind), size = 100, replace = FALSE)\n",
    "    unfrozen.adversarial.model %>% train_on_batch(x = as.matrix(standardised.X.tr)[batch.ind, ], \n",
    "                                                  y = list(as.matrix(Z[tr.ind, \"race\", with = FALSE])[batch.ind, ],\n",
    "                                                           as.matrix(Z[tr.ind, \"sex\", with = FALSE])[batch.ind, ])) \n",
    "    pred.test <- classifier.model %>% predict(as.matrix(standardised.X.ts))\n",
    "\n",
    "    plot.out <- data.table(pred.test, Z[ts.ind])\n",
    "    colnames(plot.out) <- c(\"predictions\", sensitive_attribs)\n",
    "\n",
    "    y.z.1 <- ifelse(test = plot.out$predictions[which(plot.out$race == 1)] > threshold, yes = 1.0, no = 0.0)\n",
    "    y.z.0 <- ifelse(test = plot.out$predictions[which(plot.out$race == 0)] > threshold, yes = 1.0, no = 0.0)\n",
    "    odds <- mean(x = y.z.1) / mean(x = y.z.0)\n",
    "    out.race <- min(x = c(odds, 1 / odds))\n",
    "\n",
    "    y.z.1 <- ifelse(test = plot.out$predictions[which(plot.out$sex == 1)] > threshold, yes = 1.0, no = 0.0)\n",
    "    y.z.0 <- ifelse(test = plot.out$predictions[which(plot.out$sex == 0)] > threshold, yes = 1.0, no = 0.0)\n",
    "    odds <- mean(x = y.z.1) / mean(x = y.z.0)\n",
    "    out.sex <- min(x = c(odds, 1.0 / odds))\n",
    "\n",
    "    unfreeze_weights(object = classifier.model,\n",
    "                     from = \"classifier.input\",\n",
    "                     to = \"classifier.output\")\n",
    "    freeze_weights(object = adversarial.model,\n",
    "                   from = \"adversarial.input\",\n",
    "                   to = \"race.layer.output\")\n",
    "    freeze_weights(object = adversarial.model,\n",
    "                   from = \"adversarial.input\",\n",
    "                   to = \"sex.layer.output\")\n",
    "\n",
    "    batch.ind <- sample(x = 1:length(tr.ind), size = 100, replace = FALSE)\n",
    "    frozen.adversarial.model %>% train_on_batch(x = as.matrix(standardised.X.tr)[batch.ind, ],\n",
    "                                                y = list(as.matrix(data.table(y)[tr.ind])[batch.ind, ],\n",
    "                                                         as.matrix(Z[tr.ind, \"race\", with = FALSE])[batch.ind, ],\n",
    "                                                         as.matrix(Z[tr.ind, \"sex\", with = FALSE])[batch.ind, ])) \n",
    "}"
   ]
  },
  {
   "cell_type": "markdown",
   "metadata": {},
   "source": [
    "Final results. \n",
    "\n",
    "---"
   ]
  },
  {
   "cell_type": "code",
   "execution_count": null,
   "metadata": {},
   "outputs": [],
   "source": [
    "output.plot <- ggplot(data = plot.out) +\n",
    "geom_density(aes(x = predictions,\n",
    "                 fill = factor(race)),\n",
    "             alpha = 0.5) +\n",
    "ggtitle(paste(\"Predictions for income being higher than $50,000 per year\\nGrouped by race\\nP-rule:\",\n",
    "              percent(out.race),\n",
    "              \"\\nAUROC:\", \n",
    "              percent(HMeasure(true.class = y[ts.ind], scores = pred.test)$metrics$AUC))) +\n",
    "scale_fill_discrete(name=\"Race\",\n",
    "                    labels=c(\"Black\", \"White\")) +\n",
    "scale_x_continuous(labels = percent) +\n",
    "xlab(label = \"Classifier predictions\") +\n",
    "ylab(label = \"Density\")\n",
    "ggsave(filename = \"/Users/samson/Projects/fair_ml/post_train_result_race.png\", \n",
    "       plot = output.plot)\n",
    "\n",
    "output.plot <- ggplot(data = plot.out) +\n",
    "geom_density(aes(x = predictions,\n",
    "                 fill = factor(sex)),\n",
    "             alpha = 0.5) +\n",
    "ggtitle(paste(\"Predictions for income being higher than $50,000 per year\\nGrouped by gender\\nP-rule:\", \n",
    "              percent(out.sex),\n",
    "              \"\\nAUROC:\", \n",
    "              percent(HMeasure(true.class = y[ts.ind], scores = pred.test)$metrics$AUC))) +\n",
    "scale_fill_discrete(name=\"Gender\",\n",
    "                    labels=c(\"Female\", \"Male\")) +\n",
    "scale_x_continuous(labels = percent) +\n",
    "xlab(label = \"Classifier predictions\") +\n",
    "ylab(label = \"Density\")\n",
    "ggsave(filename = \"/Users/samson/Projects/fair_ml/post_train_result_gender.png\", \n",
    "       plot = output.plot)"
   ]
  }
 ],
 "metadata": {
  "kernelspec": {
   "display_name": "R",
   "language": "R",
   "name": "ir"
  },
  "language_info": {
   "codemirror_mode": "r",
   "file_extension": ".r",
   "mimetype": "text/x-r-source",
   "name": "R",
   "pygments_lexer": "r",
   "version": "3.5.1"
  },
  "latex_envs": {
   "LaTeX_envs_menu_present": true,
   "autoclose": false,
   "autocomplete": true,
   "bibliofile": "biblio.bib",
   "cite_by": "apalike",
   "current_citInitial": 1,
   "eqLabelWithNumbers": true,
   "eqNumInitial": 1,
   "hotkeys": {
    "equation": "Ctrl-E",
    "itemize": "Ctrl-I"
   },
   "labels_anchors": false,
   "latex_user_defs": false,
   "report_style_numbering": false,
   "user_envs_cfg": false
  }
 },
 "nbformat": 4,
 "nbformat_minor": 2
}
